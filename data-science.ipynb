{
 "cells": [
  {
   "cell_type": "markdown",
   "metadata": {},
   "source": [
    "<h1 style=\"text-align: center;\">Nzubechukwu Ifechukwu</h1>\n",
    "<p style=\"text-align: center;\">\n",
    "    <strong>nzube.ifechukwu@gmail.com</strong> | \n",
    "    <a href=\"https://www.linkedin.com/in/nzubeifechukwu/\"><strong>LinkedIn</strong></a> |\n",
    "    <a href=\"https://github.com/nzubeifechukwu\"><strong>GitHub</strong></a>\n",
    "</p>"
   ]
  },
  {
   "cell_type": "markdown",
   "metadata": {},
   "source": [
    "## Summary"
   ]
  },
  {
   "cell_type": "markdown",
   "metadata": {},
   "source": [
    "I am a data scientist with 2 years of experience in data analysis, manipulation and visualization using Python. I have worked with data in different formats. I love to tell interesting stories by extracting meaningful insight from data."
   ]
  },
  {
   "cell_type": "markdown",
   "metadata": {},
   "source": [
    "## Projects"
   ]
  },
  {
   "cell_type": "markdown",
   "metadata": {},
   "source": [
    "- **[Customer Analytics: Preparing Data for Modeling](https://github.com/nzubeifechukwu/customer-analytics):** I apply my knowledge of data types and categorical data to prepare, transform and efficiently store a dataset of trainees at a hypothetical data science training provider for data modeling.\n",
    "- **[Analyzing Crime in Los Angeles](https://github.com/nzubeifechukwu/crime-los-angeles):** I analyze crime data for Los Angeles, California to identify patterns in criminal behavior. Specifically, I explore where and when crime often occurs. I also identify the likely age ranges of most crime victims.\n",
    "- **[History of Nobel Prize Winners](https://github.com/nzubeifechukwu/history-nobel-winners):** I explore a dataset of Nobel Prize laureates to highlight some trends in the manner the prizes have been awarded.\n",
    "\n",
    "Check out [my GitHub profile](https://github.com/nzubeifechukwu) for more projects."
   ]
  },
  {
   "cell_type": "markdown",
   "metadata": {},
   "source": [
    "## Certifications"
   ]
  },
  {
   "cell_type": "markdown",
   "metadata": {},
   "source": [
    "- **Applied Data Science Lab**, issued by **WorldQuant University** ([verify certification](https://www.credly.com/badges/6aee2256-410d-4dae-96ae-033e8d86e8b5))\n",
    "- **SQL (Basic)**, issued by **HackerRank** ([verify certification](https://www.hackerrank.com/certificates/dd4aff6bf143))\n",
    "- **Python (Basic)**, issued by **HackerRank** ([verify certification](https://www.hackerrank.com/certificates/5f1f044488c0))"
   ]
  },
  {
   "cell_type": "markdown",
   "metadata": {},
   "source": [
    "## Skills"
   ]
  },
  {
   "cell_type": "markdown",
   "metadata": {},
   "source": [
    "Python | Data Science | Data Visualization | SQL | Machine Learning | Statistics | MongoDB | API Design"
   ]
  },
  {
   "cell_type": "code",
   "execution_count": null,
   "metadata": {},
   "outputs": [],
   "source": []
  }
 ],
 "metadata": {
  "kernelspec": {
   "display_name": "Python 3",
   "language": "python",
   "name": "python3"
  },
  "language_info": {
   "codemirror_mode": {
    "name": "ipython",
    "version": 3
   },
   "file_extension": ".py",
   "mimetype": "text/x-python",
   "name": "python",
   "nbconvert_exporter": "python",
   "pygments_lexer": "ipython3",
   "version": "3.7.3"
  }
 },
 "nbformat": 4,
 "nbformat_minor": 2
}
